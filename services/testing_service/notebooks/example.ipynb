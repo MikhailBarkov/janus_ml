{
 "cells": [
  {
   "cell_type": "code",
   "execution_count": 7,
   "id": "2073f632",
   "metadata": {},
   "outputs": [],
   "source": [
    "import json\n",
    "\n",
    "import requests\n",
    "\n",
    "from gremlin_python.process.anonymous_traversal import traversal\n",
    "from gremlin_python.driver.driver_remote_connection import DriverRemoteConnection\n",
    "from gremlin_python.driver.aiohttp.transport import AiohttpTransport \n",
    "from gremlin_python.process.graph_traversal import __\n",
    "from gremlin_python.process.traversal import P\n",
    "from gremlin_python.process.traversal import T\n",
    "from gremlin_python.statics import long "
   ]
  },
  {
   "cell_type": "markdown",
   "id": "5165d1d5",
   "metadata": {},
   "source": [
    "Инициализация бакетов."
   ]
  },
  {
   "cell_type": "code",
   "execution_count": null,
   "id": "1d1bc13d",
   "metadata": {},
   "outputs": [],
   "source": [
    "import boto3\n",
    "\n",
    "\n",
    "session = boto3.session.Session()\n",
    "s3 = session.client(\n",
    "    service_name='s3',\n",
    "    endpoint_url=\"http://s3:9000\",\n",
    "    aws_access_key_id='123',\n",
    "    aws_secret_access_key='12345678'\n",
    ")\n",
    "\n",
    "try:\n",
    "    s3.create_bucket(Bucket='util-bucket')\n",
    "except BaseException:\n",
    "    pass\n",
    "\n",
    "try:\n",
    "    s3.create_bucket(Bucket='test-bucket')\n",
    "except BaseException:\n",
    "    pass"
   ]
  },
  {
   "cell_type": "markdown",
   "id": "2f5e8deb",
   "metadata": {},
   "source": [
    "# Пример использования "
   ]
  },
  {
   "cell_type": "markdown",
   "id": "8effe130",
   "metadata": {},
   "source": [
    "В примере будет рассматриваться задача классификации вершин. Данные представляют собой набор публикаций о войне в Сирии с 2011 до 2018 года (https://www.kaggle.com/datasets/mohamadalhasan/a-fake-news-dataset-around-the-syrian-war/). Вершины - это публикации (текстовый признак). Ребра связывают вершины с одинаковой датой публикации, обсуждаемым местом и издательством.  "
   ]
  },
  {
   "cell_type": "markdown",
   "id": "fba5fb34",
   "metadata": {},
   "source": [
    "Проверим какое количество вершин и ребер в исследуемом графе"
   ]
  },
  {
   "cell_type": "code",
   "execution_count": null,
   "id": "aa714c86",
   "metadata": {},
   "outputs": [],
   "source": [
    "g = traversal().with_remote(DriverRemoteConnection(\n",
    "    'ws://janusgraph:8182/gremlin','g',\n",
    "    transport_factory=lambda:AiohttpTransport(call_from_event_loop=True))\n",
    ")\n",
    "\n",
    "g.V().hasLabel(\"news\").count().next(), g.E().hasLabel(\"link\").count().next()"
   ]
  },
  {
   "cell_type": "markdown",
   "id": "c4efa677",
   "metadata": {},
   "source": [
    "Эмбединг для текстовых данных может быть представлен как BagOfWord, Tf-Idf признак или хэш-вектор.  "
   ]
  },
  {
   "cell_type": "markdown",
   "id": "ddde8599",
   "metadata": {},
   "source": [
    "Первым этапом работы будет запрос на экспорт данных из JanusGraph в S3. "
   ]
  },
  {
   "cell_type": "markdown",
   "id": "c313d631",
   "metadata": {},
   "source": [
    "Определим адреса сервисов "
   ]
  },
  {
   "cell_type": "code",
   "execution_count": 2,
   "id": "b5c8d32d",
   "metadata": {},
   "outputs": [],
   "source": [
    "JANUS_GRAPH_ENDPOINT_URL = \"ws://janusgraph:8182/gremlin\"\n",
    "S3_ENDPOINT_URL = \"http://s3:9000\"\n",
    "EXPORT_SERVICE_URL = \"http://export_service:8081/export\"\n",
    "PROCESSING_SERVICE_URL = \"http://processing_service:8082/processing\"\n",
    "TRAIN_SERVICE_URL = \"http://train_service:8083/modeltraining\"\n",
    "ENDPOINT_SERVICE_URL = \"http://endpoint_service:8084/call\""
   ]
  },
  {
   "cell_type": "code",
   "execution_count": null,
   "id": "d8e1a984",
   "metadata": {},
   "outputs": [],
   "source": [
    "news_export = {\n",
    "    \"command\": \"export-pg\",\n",
    "    \"output_s3_path\": S3_ENDPOINT_URL,\n",
    "    \"bucket\": \"test-bucket\",\n",
    "    \"params\": {\n",
    "        \"endpoint\": JANUS_GRAPH_ENDPOINT_URL\n",
    "    },\n",
    "    \"split\": [0.8, 0.1, 0.1],\n",
    "    \"additional_params\": {\n",
    "        \"jobs\": [\n",
    "            {\n",
    "                \"name\": \"news_job\",\n",
    "                \"target\": {\n",
    "                    \"node\": \"news\",\n",
    "                    \"property\": \"real\",\n",
    "                    \"type\": \"classification\"\n",
    "                },\n",
    "                \"features\" :[\n",
    "                    {\n",
    "                        \"node\": \"news\",\n",
    "                        \"property\": \"text\",\n",
    "                        \"type\": \"tfidf\"\n",
    "                    },\n",
    "                    {\n",
    "                        \"edge\": [\"news\", \"link\", \"news\"]\n",
    "                    }\n",
    "                ]\n",
    "            }\n",
    "        ]\n",
    "    }\n",
    "}\n",
    "\n",
    "requests.post(\n",
    "    EXPORT_SERVICE_URL, data=json.dumps(news_export)\n",
    ")"
   ]
  },
  {
   "cell_type": "markdown",
   "id": "7419e76f",
   "metadata": {},
   "source": [
    "* \"output_s3_path\" - путь к S3-директорию в которую помещаются экспортируемые данные.\n",
    "* \"bucket\" - S3-бакет в который экспортируются данные.\n",
    "* \"params\" - параметры JanusGraph сервера.\n",
    "* \"endpoint\" - URL базы данных.\n",
    "* \"split\" - доля разбиения данных на train, val, test.\n",
    "* \"additional_params\" - параметры экспорта.\n",
    "* \"jobs\" - задачи по экспорту.\n",
    "* \"name\" - название задачи.\n",
    "* \"target\" - целевой параметр для задачи обучения.\n",
    "* \"node\" - лейбл целевой вершины. \n",
    "* \"property\" - свойства целевой вершины.\n",
    "* \"type\" - тип задачи обучения.\n",
    "* \"features\" - свойства вершин для обучения модели.\n",
    "* \"node\\edge\" - лейбл вершины или ребра.\n",
    "* \"type\" - тип кодирования."
   ]
  },
  {
   "cell_type": "markdown",
   "id": "45b9710c",
   "metadata": {},
   "source": [
    "Теперь нужно преобразовать экспортированные данные в dgl-граф."
   ]
  },
  {
   "cell_type": "code",
   "execution_count": null,
   "id": "3f2307fb",
   "metadata": {},
   "outputs": [],
   "source": [
    "news_proc = {\n",
    "    \"s3_endpoint_url\": S3_ENDPOINT_URL,\n",
    "    \"bucket\": \"test-bucket\",\n",
    "    \"job_path\": \"janusgraph_ml/news_job\",\n",
    "    \"processed_data_s3_location\": \"janusgraph_ml/news_processed\",\n",
    "    \"config_file_name\": \"train_config.json\"\n",
    "}\n",
    "\n",
    "requests.post(\n",
    "    PROCESSING_SERVICE_URL, data=json.dumps(news_proc)\n",
    ")"
   ]
  },
  {
   "cell_type": "markdown",
   "id": "a7c750e9",
   "metadata": {},
   "source": [
    "* \"job_path\" - путь к S3-хранилищу с экспортированными данными.\n",
    "* \"processed_data_s3_location\" - путь к S3 хранилищу для обработанных данных."
   ]
  },
  {
   "cell_type": "code",
   "execution_count": null,
   "id": "0ca2b891",
   "metadata": {},
   "outputs": [],
   "source": [
    "news_train = {\n",
    "    \"s3_params\": {\n",
    "      \"bucket\": \"test-bucket\",\n",
    "      \"s3_endpoint_url\": S3_ENDPOINT_URL\n",
    "    },\n",
    "    \"train_config_s3_key\": \"janusgraph_ml/news_job/train_config.json\",\n",
    "    \"processing_config_s3_key\": \"janusgraph_ml/news_processed/processing_config.json\" \n",
    "}\n",
    "\n",
    "requests.post(\n",
    "    TRAIN_SERVICE_URL, data=json.dumps(news_train)\n",
    ")"
   ]
  },
  {
   "cell_type": "markdown",
   "id": "2a599aae",
   "metadata": {},
   "source": [
    "Обучается SAGEConv-модель. "
   ]
  },
  {
   "cell_type": "markdown",
   "id": "81e3d831",
   "metadata": {},
   "source": [
    "Гиперпараметры модели подбираются с использованием RandomSampling на основе параметров, заданных пользователем в файле по адресу model_hpo_config_s3_key. Если model_hpo_config_s3_key не был задан, то используются стандартные гиперпараметры (представлены ниже)."
   ]
  },
  {
   "cell_type": "markdown",
   "id": "260f01c1",
   "metadata": {},
   "source": [
    "```json\n",
    "{\n",
    "<!--   Количество эпох обучения -->\n",
    "  \"max_epochs\": [10, 25, 50],\n",
    "  \"learning_rate\": [0.1, 0.01, 0.001],\n",
    "  \"dropout\": [0.2, 0.35, 0.5],\n",
    "<!--   Размер скрытого h слоя задаётся размером входа input, выхода output и парой [a, b]. h = a * input + b * outout. Множители взяты из распространённых эвристик. -->\n",
    "  \"n_hidden_multiplier\": [[0.5, 0.5], [0.6, 1], [2, 0]],\n",
    "  \"n_layers\": [2, 3, 4]\n",
    "}\n",
    "```"
   ]
  },
  {
   "cell_type": "markdown",
   "id": "142a42fa",
   "metadata": {},
   "source": [
    "Веса модели и конфигурация загружаются в отдельный бакет. Создаётся эндпоинт для этой модели."
   ]
  },
  {
   "cell_type": "markdown",
   "id": "b7b429bf",
   "metadata": {},
   "source": [
    "Добавим новую вершину с фейковой новостью в граф и проверим, как будут предсказаны её свойства."
   ]
  },
  {
   "cell_type": "code",
   "execution_count": null,
   "id": "d357d24b",
   "metadata": {},
   "outputs": [],
   "source": [
    "g = traversal().with_remote(DriverRemoteConnection(\n",
    "    JANUS_GRAPH_ENDPOINT_URL,'g',\n",
    "    transport_factory=lambda:AiohttpTransport(call_from_event_loop=True))\n",
    ")\n",
    "\n",
    "text = 'Syria attack symptoms consistent with nerve agent use WHO,\"Wed 05 Apr 2017 Syria attack symptoms consistent with nerve agent use WHO. Victims of a suspected chemical attack in Syria appeared to show symptoms consistent with reaction to a nerve agent the World Health Organization said on Wednesday. \"\"Some cases appear to show additional signs consistent with exposure to organophosphorus chemicals a category of chemicals that includes nerve agents\"\" WHO said in a statement putting the death toll at at least 70. The United States has said the deaths were caused by sarin nerve gas dropped by Syrian aircraft. Russia has said it believes poison gas had leaked from a rebel chemical weapons depot struck by Syrian bombs. Sarin is an organophosporus compound and a nerve agent. Chlorine and mustard gas which are also believed to have been used in the past in Syria are not. A Russian Defence Ministry spokesman did not say what agent was used in the attack but said the rebels had used the same chemical weapons in Aleppo last year. The WHO said it was likely that some kind of chemical was used in the attack because sufferers had no apparent external injuries and died from a rapid onset of similar symptoms including acute respiratory distress. It said its experts in Turkey were giving guidance to overwhelmed health workers in Idlib on the diagnosis and treatment of patients and medicines such as Atropine an antidote for some types of chemical exposure and steroids for symptomatic treatment had been sent. A U.N. Commission of Inquiry into human rights in Syria has previously said forces loyal to Syrian President Bashar al-Assad have used lethal chlorine gas on multiple occasions. Hundreds of civilians died in a sarin gas attack in Ghouta on the outskirts of Damascus in August 2013. Assads government has always denied responsibility for that attack. Syria agreed to destroy its chemical weapons in 2013 under a deal brokered by Moscow and Washington. But Russia a Syrian ally and China have repeatedly vetoed any United Nations move to sanction Assad or refer the situation in Syria to the International Criminal Court. \"\"These types of weapons are banned by international law because they represent an intolerable barbarism\"\" Peter Salama Executive Director of the WHO Health Emergencies Programme said in the WHO statement. - REUTERS\"'\n",
    "source = 'ttr'\n",
    "date = '4/5/2012'\n",
    "location = 'homs'\n",
    "\n",
    "\n",
    "source = (\n",
    "    g.addV(\"news\")\n",
    "        .property(\"text\", text)\n",
    "        .property(\"source\", source)\n",
    "        .property(\"date\", date)\n",
    "        .property(\"location\", location)\n",
    "        .property(\"real\", '0')\n",
    "        .property('temp', 'temp')\n",
    "        .next()\n",
    ")\n",
    "\n",
    "(\n",
    "    g.V(source).as_(\"a\")\n",
    "        .V().hasLabel(\"news\").as_(\"b\")\n",
    "        .or_(\n",
    "            __.where(\"a\", P.eq(\"b\")).by(\"source\"),\n",
    "            __.where(\"a\", P.eq(\"b\")).by(\"date\"),\n",
    "            __.where(\"a\", P.eq(\"b\")).by(\"location\")\n",
    "        )\n",
    "        .V(long(source.id)).addE(\"link\").to(\"b\")\n",
    "        .addE(\"link\").from_(\"b\").to(__.V(long(source.id)))\n",
    "        .iterate()\n",
    ")\n",
    "\n",
    "prediction = (\n",
    "    g.call(\"predict\")\n",
    "        .with_(\"endpoint_id\", \"news_job\")\n",
    "        .with_(\"predict_entity_idx\", str(source.id))\n",
    "        .with_(\"interface\", \"inductive\")\n",
    "        .next()\n",
    ")\n",
    "\n",
    "prediction"
   ]
  },
  {
   "cell_type": "markdown",
   "id": "d9122773",
   "metadata": {},
   "source": [
    "Добавим другую вершину и отправим запрос с трансдуктивным интерфейсом."
   ]
  },
  {
   "cell_type": "code",
   "execution_count": null,
   "id": "aaf3033e",
   "metadata": {},
   "outputs": [],
   "source": [
    "g = traversal().with_remote(DriverRemoteConnection(\n",
    "    JANUS_GRAPH_ENDPOINT_URL,'g',\n",
    "    transport_factory=lambda:AiohttpTransport(call_from_event_loop=True))\n",
    ")\n",
    "\n",
    "text = 'Sun 01 Feb 2015 Explosion rocks down town Damascus . An explosion inside a bus killed six people and injured another ten in down town Damascus according to preliminary reports on Sunday. Syrias government run TV said the explosion took place in Al Kalassa region of the Syrian capital and that 19 people were injured and an unspecified number of others killed.'\n",
    "source = 'nna'\n",
    "date = '2/1/2015'\n",
    "location = 'damascus'\n",
    "\n",
    "\n",
    "source = (\n",
    "    g.addV(\"news\")\n",
    "        .property(\"text\", text)\n",
    "        .property(\"source\", source)\n",
    "        .property(\"date\", date)\n",
    "        .property(\"location\", location)\n",
    "        .property(\"real\", '1')\n",
    "        .property('temp', 'temp')\n",
    "        .next()\n",
    ")\n",
    "\n",
    "(\n",
    "    g.V(source).as_(\"a\")\n",
    "        .V().hasLabel(\"news\").as_(\"b\")\n",
    "        .or_(\n",
    "            __.where(\"a\", P.eq(\"b\")).by(\"source\"),\n",
    "            __.where(\"a\", P.eq(\"b\")).by(\"date\"),\n",
    "            __.where(\"a\", P.eq(\"b\")).by(\"location\")\n",
    "        )\n",
    "        .V(long(source.id)).addE(\"link\").to(\"b\")\n",
    "        .addE(\"link\").from_(\"b\").to(__.V(long(source.id)))\n",
    "        .iterate()\n",
    ")\n",
    "\n",
    "prediction = (\n",
    "    g.call(\"predict\")\n",
    "        .with_(\"endpoint_id\", \"news_job\")\n",
    "        .with_(\"predict_entity_idx\", str(source.id))\n",
    "        .with_(\"interface\", \"transductive\")\n",
    "        .next()\n",
    ")\n",
    "\n",
    "prediction"
   ]
  }
 ],
 "metadata": {
  "kernelspec": {
   "display_name": "Python 3 (ipykernel)",
   "language": "python",
   "name": "python3"
  },
  "language_info": {
   "codemirror_mode": {
    "name": "ipython",
    "version": 3
   },
   "file_extension": ".py",
   "mimetype": "text/x-python",
   "name": "python",
   "nbconvert_exporter": "python",
   "pygments_lexer": "ipython3",
   "version": "3.10.12"
  }
 },
 "nbformat": 4,
 "nbformat_minor": 5
}
