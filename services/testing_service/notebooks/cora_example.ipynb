{
 "cells": [
  {
   "cell_type": "code",
   "execution_count": null,
   "id": "3e9c202c",
   "metadata": {},
   "outputs": [],
   "source": [
    "import json\n",
    "\n",
    "import requests\n",
    "import boto3\n",
    "from gremlin_python.process.anonymous_traversal import traversal\n",
    "from gremlin_python.driver.driver_remote_connection import DriverRemoteConnection\n",
    "from gremlin_python.driver.aiohttp.transport import AiohttpTransport \n",
    "from gremlin_python.process.graph_traversal import __\n",
    "from gremlin_python.process.traversal import P\n",
    "from gremlin_python.process.traversal import T\n",
    "from gremlin_python.statics import long "
   ]
  },
  {
   "cell_type": "code",
   "execution_count": null,
   "id": "6640fb6b",
   "metadata": {},
   "outputs": [],
   "source": [
    "g = traversal().with_remote(DriverRemoteConnection(\n",
    "    'ws://janusgraph:8182/gremlin','g',\n",
    "    transport_factory=lambda:AiohttpTransport(call_from_event_loop=True))\n",
    ")\n",
    "\n",
    "g.V().hasLabel(\"paper\").count().next(), g.E().hasLabel(\"citation\").count().next()"
   ]
  },
  {
   "cell_type": "code",
   "execution_count": null,
   "id": "ab9b87e6",
   "metadata": {},
   "outputs": [],
   "source": [
    "JANUS_GRAPH_ENDPOINT_URL = \"ws://janusgraph:8182/gremlin\"\n",
    "S3_ENDPOINT_URL = \"http://s3:9000\"\n",
    "EXPORT_SERVICE_URL = \"http://export_service:8081/export\"\n",
    "PROCESSING_SERVICE_URL = \"http://processing_service:8082/processing\"\n",
    "TRAIN_SERVICE_URL = \"http://train_service:8083/modeltraining\"\n",
    "ENDPOINT_SERVICE_URL = \"http://endpoint_service:8084/call\""
   ]
  },
  {
   "cell_type": "code",
   "execution_count": null,
   "id": "34593d09",
   "metadata": {
    "scrolled": true
   },
   "outputs": [],
   "source": [
    "cora_export = {\n",
    "    \"command\": \"export-pg\",\n",
    "    \"output_s3_path\": S3_ENDPOINT_URL,\n",
    "    \"bucket\": \"test-bucket\",\n",
    "    \"params\": {\n",
    "        \"endpoint\": JANUS_GRAPH_ENDPOINT_URL\n",
    "    },\n",
    "    \"additional_params\": {\n",
    "        \"jobs\": [\n",
    "            {\n",
    "                \"name\": \"new_cora_job\",\n",
    "                \"target\": {\n",
    "                    \"node\": \"paper\",\n",
    "                    \"property\": \"category\",\n",
    "                    \"type\": \"classification\",\n",
    "                    \"split_rate\": [0.1, 0.2, 0.7],\n",
    "                },\n",
    "                \"features\" :[\n",
    "                    {\n",
    "                        \"node\": \"paper\",\n",
    "                        \"property\": \"word_vector\",\n",
    "                        \"type\": \"float_array\"\n",
    "                    },\n",
    "                    {\n",
    "                        \"edge\": [\"paper\", \"citation\", \"paper\"]\n",
    "                    }\n",
    "                ]\n",
    "            }\n",
    "        ]\n",
    "    }\n",
    "}\n",
    "\n",
    "requests.post(\n",
    "    EXPORT_SERVICE_URL, data=json.dumps(cora_export)\n",
    ")"
   ]
  },
  {
   "cell_type": "code",
   "execution_count": null,
   "id": "11a94cc1",
   "metadata": {},
   "outputs": [],
   "source": [
    "cora_proc = {\n",
    "    \"s3_endpoint_url\": S3_ENDPOINT_URL,\n",
    "    \"bucket\": \"test-bucket\",\n",
    "    \"job_path\": \"janusgraph_ml/cora_job\",\n",
    "    \"processed_data_s3_location\": \"janusgraph_ml/cora_processed\",\n",
    "    \"config_file_name\": \"train_config.json\"\n",
    "}\n",
    "\n",
    "requests.post(\n",
    "    PROCESSING_SERVICE_URL, data=json.dumps(cora_proc)\n",
    ")"
   ]
  },
  {
   "cell_type": "code",
   "execution_count": null,
   "id": "6d6b7f98",
   "metadata": {},
   "outputs": [],
   "source": [
    "cora_train = {\n",
    "    \"s3_params\": {\n",
    "      \"bucket\": \"test-bucket\",\n",
    "      \"s3_endpoint_url\": S3_ENDPOINT_URL\n",
    "    },\n",
    "    \"train_config_s3_key\": \"janusgraph_ml/cora_job/train_config.json\",\n",
    "    \"processing_config_s3_key\": \"janusgraph_ml/cora_processed/processing_config.json\" \n",
    "}\n",
    "\n",
    "requests.post(TRAIN_SERVICE_URL, data=json.dumps(cora_train))"
   ]
  },
  {
   "cell_type": "code",
   "execution_count": null,
   "id": "eb977492",
   "metadata": {},
   "outputs": [],
   "source": [
    "g = traversal().with_remote(DriverRemoteConnection(\n",
    "    JANUS_GRAPH_ENDPOINT_URL,'g',\n",
    "    transport_factory=lambda:AiohttpTransport(call_from_event_loop=True))\n",
    ")"
   ]
  },
  {
   "cell_type": "code",
   "execution_count": null,
   "id": "2c26111f",
   "metadata": {},
   "outputs": [],
   "source": [
    "nodes = g.V().hasLabel('paper').project('id', 'category').by(T.id).by('category').next(10)\n",
    "nodes"
   ]
  },
  {
   "cell_type": "code",
   "execution_count": null,
   "id": "3b1cccec",
   "metadata": {},
   "outputs": [],
   "source": [
    "prediction = (\n",
    "    g.call(\"predict\")\n",
    "        .with_(\"endpoint_id\", \"cora_job\")\n",
    "        .with_(\"predict_entity_idx\", '788578368')\n",
    "        .with_(\"interface\", \"inductive\")\n",
    "        .next()\n",
    ")\n",
    "\n",
    "prediction"
   ]
  },
  {
   "cell_type": "code",
   "execution_count": null,
   "id": "a4fed781",
   "metadata": {},
   "outputs": [],
   "source": [
    "prediction = (\n",
    "    g.call(\"predict\")\n",
    "        .with_(\"endpoint_id\", \"cora_job\")\n",
    "        .with_(\"predict_entity_idx\", '788607040')\n",
    "        .with_(\"interface\", \"transductive\")\n",
    "        .next()\n",
    ")\n",
    "\n",
    "prediction"
   ]
  }
 ],
 "metadata": {
  "kernelspec": {
   "display_name": "Python 3 (ipykernel)",
   "language": "python",
   "name": "python3"
  },
  "language_info": {
   "codemirror_mode": {
    "name": "ipython",
    "version": 3
   },
   "file_extension": ".py",
   "mimetype": "text/x-python",
   "name": "python",
   "nbconvert_exporter": "python",
   "pygments_lexer": "ipython3",
   "version": "3.10.12"
  }
 },
 "nbformat": 4,
 "nbformat_minor": 5
}
